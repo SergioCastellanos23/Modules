{
 "cells": [
  {
   "cell_type": "code",
   "execution_count": 1,
   "id": "515d4131",
   "metadata": {},
   "outputs": [
    {
     "name": "stdout",
     "output_type": "stream",
     "text": [
      "(CVXPY) May 27 08:31:12 PM: Encountered unexpected exception importing solver CVXOPT:\n",
      "ImportError('DLL load failed while importing base: No se puede encontrar el módulo especificado.')\n",
      "(CVXPY) May 27 08:31:12 PM: Encountered unexpected exception importing solver GLPK:\n",
      "ImportError('DLL load failed while importing base: No se puede encontrar el módulo especificado.')\n",
      "(CVXPY) May 27 08:31:12 PM: Encountered unexpected exception importing solver GLPK_MI:\n",
      "ImportError('DLL load failed while importing base: No se puede encontrar el módulo especificado.')\n"
     ]
    }
   ],
   "source": [
    "import pandas as pd\n",
    "import numpy as np\n",
    "import seaborn as sns\n",
    "import matplotlib.pyplot as plt\n",
    "from matplotlib import pyplot\n",
    "import limpieza\n",
    "import Outliers\n",
    "import analisis_bi_multi\n",
    "import var_selection"
   ]
  },
  {
   "cell_type": "code",
   "execution_count": 2,
   "id": "42c4d090",
   "metadata": {},
   "outputs": [],
   "source": [
    "df= pd.read_csv('D:\\Documentos\\projects\\AGG.csv')"
   ]
  },
  {
   "cell_type": "code",
   "execution_count": 3,
   "id": "adb85796",
   "metadata": {},
   "outputs": [
    {
     "data": {
      "text/html": [
       "<div>\n",
       "<style scoped>\n",
       "    .dataframe tbody tr th:only-of-type {\n",
       "        vertical-align: middle;\n",
       "    }\n",
       "\n",
       "    .dataframe tbody tr th {\n",
       "        vertical-align: top;\n",
       "    }\n",
       "\n",
       "    .dataframe thead th {\n",
       "        text-align: right;\n",
       "    }\n",
       "</style>\n",
       "<table border=\"1\" class=\"dataframe\">\n",
       "  <thead>\n",
       "    <tr style=\"text-align: right;\">\n",
       "      <th></th>\n",
       "      <th>Credit_Score</th>\n",
       "      <th>Income</th>\n",
       "      <th>Loan_Amount</th>\n",
       "      <th>Interest_Rate</th>\n",
       "      <th>Loan_to_Value_Ratio</th>\n",
       "      <th>Employment_Status</th>\n",
       "      <th>Education_Level</th>\n",
       "      <th>Marital_Status</th>\n",
       "      <th>Loan_Purpose</th>\n",
       "      <th>Region</th>\n",
       "      <th>Default_60</th>\n",
       "    </tr>\n",
       "  </thead>\n",
       "  <tbody>\n",
       "    <tr>\n",
       "      <th>0</th>\n",
       "      <td>724</td>\n",
       "      <td>39822</td>\n",
       "      <td>16741</td>\n",
       "      <td>1.038856</td>\n",
       "      <td>0.605628</td>\n",
       "      <td>Self-Employed</td>\n",
       "      <td>High School</td>\n",
       "      <td>Divorced</td>\n",
       "      <td>Home</td>\n",
       "      <td>West</td>\n",
       "      <td>0</td>\n",
       "    </tr>\n",
       "    <tr>\n",
       "      <th>1</th>\n",
       "      <td>693</td>\n",
       "      <td>45417</td>\n",
       "      <td>16416</td>\n",
       "      <td>2.890029</td>\n",
       "      <td>0.902540</td>\n",
       "      <td>Employed</td>\n",
       "      <td>Graduate School</td>\n",
       "      <td>Divorced</td>\n",
       "      <td>Personal</td>\n",
       "      <td>East</td>\n",
       "      <td>0</td>\n",
       "    </tr>\n",
       "    <tr>\n",
       "      <th>2</th>\n",
       "      <td>732</td>\n",
       "      <td>41039</td>\n",
       "      <td>10317</td>\n",
       "      <td>3.825943</td>\n",
       "      <td>0.660363</td>\n",
       "      <td>Unemployed</td>\n",
       "      <td>High School</td>\n",
       "      <td>Married</td>\n",
       "      <td>Personal</td>\n",
       "      <td>North</td>\n",
       "      <td>0</td>\n",
       "    </tr>\n",
       "    <tr>\n",
       "      <th>3</th>\n",
       "      <td>776</td>\n",
       "      <td>51656</td>\n",
       "      <td>17897</td>\n",
       "      <td>5.299338</td>\n",
       "      <td>0.718114</td>\n",
       "      <td>Self-Employed</td>\n",
       "      <td>College</td>\n",
       "      <td>Divorced</td>\n",
       "      <td>Auto</td>\n",
       "      <td>West</td>\n",
       "      <td>1</td>\n",
       "    </tr>\n",
       "    <tr>\n",
       "      <th>4</th>\n",
       "      <td>688</td>\n",
       "      <td>67957</td>\n",
       "      <td>7549</td>\n",
       "      <td>7.048325</td>\n",
       "      <td>0.843478</td>\n",
       "      <td>Unemployed</td>\n",
       "      <td>Graduate School</td>\n",
       "      <td>Married</td>\n",
       "      <td>Education</td>\n",
       "      <td>South</td>\n",
       "      <td>1</td>\n",
       "    </tr>\n",
       "  </tbody>\n",
       "</table>\n",
       "</div>"
      ],
      "text/plain": [
       "   Credit_Score  Income  Loan_Amount  Interest_Rate  Loan_to_Value_Ratio  \\\n",
       "0           724   39822        16741       1.038856             0.605628   \n",
       "1           693   45417        16416       2.890029             0.902540   \n",
       "2           732   41039        10317       3.825943             0.660363   \n",
       "3           776   51656        17897       5.299338             0.718114   \n",
       "4           688   67957         7549       7.048325             0.843478   \n",
       "\n",
       "  Employment_Status  Education_Level Marital_Status Loan_Purpose Region  \\\n",
       "0     Self-Employed      High School       Divorced         Home   West   \n",
       "1          Employed  Graduate School       Divorced     Personal   East   \n",
       "2        Unemployed      High School        Married     Personal  North   \n",
       "3     Self-Employed          College       Divorced         Auto   West   \n",
       "4        Unemployed  Graduate School        Married    Education  South   \n",
       "\n",
       "   Default_60  \n",
       "0           0  \n",
       "1           0  \n",
       "2           0  \n",
       "3           1  \n",
       "4           1  "
      ]
     },
     "execution_count": 3,
     "metadata": {},
     "output_type": "execute_result"
    }
   ],
   "source": [
    "df.head()"
   ]
  },
  {
   "cell_type": "code",
   "execution_count": 4,
   "id": "453460e5",
   "metadata": {},
   "outputs": [
    {
     "data": {
      "text/plain": [
       "0    5923\n",
       "1    4077\n",
       "Name: Default_60, dtype: int64"
      ]
     },
     "execution_count": 4,
     "metadata": {},
     "output_type": "execute_result"
    }
   ],
   "source": [
    "df['Default_60'].value_counts()"
   ]
  },
  {
   "cell_type": "code",
   "execution_count": 5,
   "id": "956001e8",
   "metadata": {},
   "outputs": [
    {
     "name": "stdout",
     "output_type": "stream",
     "text": [
      "<class 'pandas.core.frame.DataFrame'>\n",
      "RangeIndex: 10000 entries, 0 to 9999\n",
      "Data columns (total 11 columns):\n",
      " #   Column               Non-Null Count  Dtype  \n",
      "---  ------               --------------  -----  \n",
      " 0   Credit_Score         10000 non-null  int64  \n",
      " 1   Income               10000 non-null  int64  \n",
      " 2   Loan_Amount          10000 non-null  int64  \n",
      " 3   Interest_Rate        10000 non-null  float64\n",
      " 4   Loan_to_Value_Ratio  10000 non-null  float64\n",
      " 5   Employment_Status    10000 non-null  object \n",
      " 6   Education_Level      10000 non-null  object \n",
      " 7   Marital_Status       10000 non-null  object \n",
      " 8   Loan_Purpose         10000 non-null  object \n",
      " 9   Region               10000 non-null  object \n",
      " 10  Default_60           10000 non-null  int64  \n",
      "dtypes: float64(2), int64(4), object(5)\n",
      "memory usage: 859.5+ KB\n"
     ]
    }
   ],
   "source": [
    "df.info()"
   ]
  },
  {
   "cell_type": "code",
   "execution_count": 6,
   "id": "3cc24b20",
   "metadata": {},
   "outputs": [
    {
     "data": {
      "text/plain": [
       "Credit_Score           0\n",
       "Income                 0\n",
       "Loan_Amount            0\n",
       "Interest_Rate          0\n",
       "Loan_to_Value_Ratio    0\n",
       "Employment_Status      0\n",
       "Education_Level        0\n",
       "Marital_Status         0\n",
       "Loan_Purpose           0\n",
       "Region                 0\n",
       "Default_60             0\n",
       "dtype: int64"
      ]
     },
     "execution_count": 6,
     "metadata": {},
     "output_type": "execute_result"
    }
   ],
   "source": [
    "limpieza.nan(df)"
   ]
  },
  {
   "cell_type": "code",
   "execution_count": 7,
   "id": "3a1e0cae",
   "metadata": {},
   "outputs": [
    {
     "name": "stderr",
     "output_type": "stream",
     "text": [
      "D:\\Anaconda\\lib\\site-packages\\scipy\\stats\\morestats.py:1760: UserWarning: p-value may not be accurate for N > 5000.\n",
      "  warnings.warn(\"p-value may not be accurate for N > 5000.\")\n"
     ]
    },
    {
     "data": {
      "text/plain": [
       "{'Credit_Score': (0.9999103546142578, 0.9845864176750183),\n",
       " 'Income': (0.9997838139533997, 0.42200833559036255),\n",
       " 'Loan_Amount': (0.9997894167900085, 0.4494999647140503),\n",
       " 'Interest_Rate': (0.9998947978019714, 0.9583451151847839),\n",
       " 'Loan_to_Value_Ratio': (0.9997967481613159, 0.4873877465724945),\n",
       " 'Default_60': (0.624120831489563, 0.0)}"
      ]
     },
     "execution_count": 7,
     "metadata": {},
     "output_type": "execute_result"
    }
   ],
   "source": [
    "limpieza.shapiro(df)\n",
    "#Mediante la prueba Shapiro podemos deducir que nuestros datos si cuentan con una distribución normal\n",
    "#Los p-values son mayores a 0.05."
   ]
  },
  {
   "cell_type": "code",
   "execution_count": 8,
   "id": "f20e1117",
   "metadata": {},
   "outputs": [
    {
     "data": {
      "text/plain": [
       "array([[<AxesSubplot:title={'center':'Credit_Score'}>,\n",
       "        <AxesSubplot:title={'center':'Income'}>],\n",
       "       [<AxesSubplot:title={'center':'Loan_Amount'}>,\n",
       "        <AxesSubplot:title={'center':'Interest_Rate'}>],\n",
       "       [<AxesSubplot:title={'center':'Loan_to_Value_Ratio'}>,\n",
       "        <AxesSubplot:title={'center':'Default_60'}>]], dtype=object)"
      ]
     },
     "execution_count": 8,
     "metadata": {},
     "output_type": "execute_result"
    },
    {
     "data": {
      "image/png": "[encoded data removed]",
      "text/plain": [
       "<Figure size 1080x720 with 6 Axes>"
      ]
     },
     "metadata": {
      "needs_background": "light"
     },
     "output_type": "display_data"
    }
   ],
   "source": [
    "df.hist(figsize=(15,10))\n",
    "#Podemos apreciar la distribución normal de nuestras variables numericas en los histogramas. \n",
    "#Por ende utilizaremos el modulo de \"limpieza.robustoutliers\"\n",
    "#Dicho metodo es de rango intercuantil, modificando el umbral a 3.5."
   ]
  },
  {
   "cell_type": "code",
   "execution_count": 9,
   "id": "34e3ec98",
   "metadata": {},
   "outputs": [
    {
     "data": {
      "text/plain": [
       "179     836\n",
       "209     892\n",
       "262     537\n",
       "478     853\n",
       "646     565\n",
       "       ... \n",
       "8726    857\n",
       "9258    838\n",
       "9573    562\n",
       "9606    559\n",
       "9770    503\n",
       "Name: Credit_Score, Length: 83, dtype: int64"
      ]
     },
     "execution_count": 9,
     "metadata": {},
     "output_type": "execute_result"
    }
   ],
   "source": [
    "Outliers.quantileoutlier(df,'Credit_Score',1.5)"
   ]
  },
  {
   "cell_type": "code",
   "execution_count": 10,
   "id": "230ac320",
   "metadata": {},
   "outputs": [
    {
     "data": {
      "text/plain": [
       "127      9163\n",
       "185     93711\n",
       "217      8893\n",
       "543      7840\n",
       "581     92020\n",
       "        ...  \n",
       "9490    93954\n",
       "9584    91788\n",
       "9674    -7845\n",
       "9852      -23\n",
       "9962     6859\n",
       "Name: Income, Length: 83, dtype: int64"
      ]
     },
     "execution_count": 10,
     "metadata": {},
     "output_type": "execute_result"
    }
   ],
   "source": [
    "Outliers.quantileoutlier(df,'Income',1.5)"
   ]
  },
  {
   "cell_type": "code",
   "execution_count": 11,
   "id": "ad6d6c64",
   "metadata": {},
   "outputs": [
    {
     "data": {
      "text/plain": [
       "Series([], Name: Loan_to_Value_Ratio, dtype: float64)"
      ]
     },
     "execution_count": 11,
     "metadata": {},
     "output_type": "execute_result"
    }
   ],
   "source": [
    "Outliers.quantileoutlier(df,'Loan_to_Value_Ratio',3.5)"
   ]
  },
  {
   "cell_type": "code",
   "execution_count": 12,
   "id": "2ae115ff",
   "metadata": {},
   "outputs": [
    {
     "data": {
      "text/plain": [
       "82        529\n",
       "126     33014\n",
       "233      -996\n",
       "777       956\n",
       "812       757\n",
       "932       173\n",
       "1054     1124\n",
       "1421    -1064\n",
       "1620    33056\n",
       "2358    -1477\n",
       "2494    -3275\n",
       "2511    29668\n",
       "2567    28713\n",
       "2647      589\n",
       "2672      768\n",
       "3094     1063\n",
       "3189    29993\n",
       "3207    29713\n",
       "3355    30683\n",
       "4177    30191\n",
       "4330    29335\n",
       "4611    -2475\n",
       "4688       46\n",
       "5104      898\n",
       "5438     -102\n",
       "5647    31076\n",
       "5777     -276\n",
       "5837    29783\n",
       "6509    29038\n",
       "6684      -46\n",
       "6914    30794\n",
       "7068      291\n",
       "7098     -278\n",
       "7140      466\n",
       "7482    28821\n",
       "7486    30661\n",
       "7541    29806\n",
       "7568      920\n",
       "7790    28822\n",
       "7864    29513\n",
       "7920    29432\n",
       "8515    30068\n",
       "8552    33458\n",
       "8779    28669\n",
       "8790    -2266\n",
       "9002    31772\n",
       "9266    29310\n",
       "9399     -795\n",
       "9536    29257\n",
       "9594    -2137\n",
       "Name: Loan_Amount, dtype: int64"
      ]
     },
     "execution_count": 12,
     "metadata": {},
     "output_type": "execute_result"
    }
   ],
   "source": [
    "Outliers.quantileoutlier(df,'Loan_Amount',1.5)"
   ]
  },
  {
   "cell_type": "code",
   "execution_count": 13,
   "id": "4207fae4",
   "metadata": {},
   "outputs": [
    {
     "data": {
      "text/plain": [
       "14      -1.186451\n",
       "224     -2.065636\n",
       "482     11.316147\n",
       "496     -0.824320\n",
       "511     10.501897\n",
       "          ...    \n",
       "9499    -0.697371\n",
       "9527    -0.817725\n",
       "9575    10.703924\n",
       "9616    -1.896086\n",
       "9838    11.591809\n",
       "Name: Interest_Rate, Length: 63, dtype: float64"
      ]
     },
     "execution_count": 13,
     "metadata": {},
     "output_type": "execute_result"
    }
   ],
   "source": [
    "Outliers.quantileoutlier(df,'Interest_Rate',1.5)"
   ]
  },
  {
   "cell_type": "code",
   "execution_count": 14,
   "id": "493c04e8",
   "metadata": {},
   "outputs": [
    {
     "name": "stderr",
     "output_type": "stream",
     "text": [
      "D:\\Anaconda\\lib\\site-packages\\sklearn\\base.py:409: UserWarning: X does not have valid feature names, but IsolationForest was fitted with feature names\n",
      "  warnings.warn(\n"
     ]
    },
    {
     "data": {
      "text/html": [
       "<div>\n",
       "<style scoped>\n",
       "    .dataframe tbody tr th:only-of-type {\n",
       "        vertical-align: middle;\n",
       "    }\n",
       "\n",
       "    .dataframe tbody tr th {\n",
       "        vertical-align: top;\n",
       "    }\n",
       "\n",
       "    .dataframe thead th {\n",
       "        text-align: right;\n",
       "    }\n",
       "</style>\n",
       "<table border=\"1\" class=\"dataframe\">\n",
       "  <thead>\n",
       "    <tr style=\"text-align: right;\">\n",
       "      <th></th>\n",
       "      <th>Credit_Score</th>\n",
       "      <th>Income</th>\n",
       "      <th>Loan_Amount</th>\n",
       "      <th>Interest_Rate</th>\n",
       "      <th>Loan_to_Value_Ratio</th>\n",
       "      <th>Employment_Status</th>\n",
       "      <th>Education_Level</th>\n",
       "      <th>Marital_Status</th>\n",
       "      <th>Loan_Purpose</th>\n",
       "      <th>Region</th>\n",
       "      <th>Default_60</th>\n",
       "    </tr>\n",
       "  </thead>\n",
       "  <tbody>\n",
       "    <tr>\n",
       "      <th>0</th>\n",
       "      <td>724</td>\n",
       "      <td>39822</td>\n",
       "      <td>16741</td>\n",
       "      <td>1.038856</td>\n",
       "      <td>0.605628</td>\n",
       "      <td>Self-Employed</td>\n",
       "      <td>High School</td>\n",
       "      <td>Divorced</td>\n",
       "      <td>Home</td>\n",
       "      <td>West</td>\n",
       "      <td>0</td>\n",
       "    </tr>\n",
       "    <tr>\n",
       "      <th>1</th>\n",
       "      <td>693</td>\n",
       "      <td>45417</td>\n",
       "      <td>16416</td>\n",
       "      <td>2.890029</td>\n",
       "      <td>0.902540</td>\n",
       "      <td>Employed</td>\n",
       "      <td>Graduate School</td>\n",
       "      <td>Divorced</td>\n",
       "      <td>Personal</td>\n",
       "      <td>East</td>\n",
       "      <td>0</td>\n",
       "    </tr>\n",
       "    <tr>\n",
       "      <th>2</th>\n",
       "      <td>732</td>\n",
       "      <td>41039</td>\n",
       "      <td>10317</td>\n",
       "      <td>3.825943</td>\n",
       "      <td>0.660363</td>\n",
       "      <td>Unemployed</td>\n",
       "      <td>High School</td>\n",
       "      <td>Married</td>\n",
       "      <td>Personal</td>\n",
       "      <td>North</td>\n",
       "      <td>0</td>\n",
       "    </tr>\n",
       "    <tr>\n",
       "      <th>3</th>\n",
       "      <td>776</td>\n",
       "      <td>51656</td>\n",
       "      <td>17897</td>\n",
       "      <td>5.299338</td>\n",
       "      <td>0.718114</td>\n",
       "      <td>Self-Employed</td>\n",
       "      <td>College</td>\n",
       "      <td>Divorced</td>\n",
       "      <td>Auto</td>\n",
       "      <td>West</td>\n",
       "      <td>1</td>\n",
       "    </tr>\n",
       "    <tr>\n",
       "      <th>4</th>\n",
       "      <td>688</td>\n",
       "      <td>67957</td>\n",
       "      <td>7549</td>\n",
       "      <td>7.048325</td>\n",
       "      <td>0.843478</td>\n",
       "      <td>Unemployed</td>\n",
       "      <td>Graduate School</td>\n",
       "      <td>Married</td>\n",
       "      <td>Education</td>\n",
       "      <td>South</td>\n",
       "      <td>1</td>\n",
       "    </tr>\n",
       "    <tr>\n",
       "      <th>...</th>\n",
       "      <td>...</td>\n",
       "      <td>...</td>\n",
       "      <td>...</td>\n",
       "      <td>...</td>\n",
       "      <td>...</td>\n",
       "      <td>...</td>\n",
       "      <td>...</td>\n",
       "      <td>...</td>\n",
       "      <td>...</td>\n",
       "      <td>...</td>\n",
       "      <td>...</td>\n",
       "    </tr>\n",
       "    <tr>\n",
       "      <th>9994</th>\n",
       "      <td>759</td>\n",
       "      <td>64288</td>\n",
       "      <td>8693</td>\n",
       "      <td>3.046320</td>\n",
       "      <td>0.203005</td>\n",
       "      <td>Employed</td>\n",
       "      <td>Graduate School</td>\n",
       "      <td>Widowed</td>\n",
       "      <td>Auto</td>\n",
       "      <td>South</td>\n",
       "      <td>1</td>\n",
       "    </tr>\n",
       "    <tr>\n",
       "      <th>9995</th>\n",
       "      <td>765</td>\n",
       "      <td>55817</td>\n",
       "      <td>12113</td>\n",
       "      <td>7.239302</td>\n",
       "      <td>0.711360</td>\n",
       "      <td>Unemployed</td>\n",
       "      <td>Graduate School</td>\n",
       "      <td>Divorced</td>\n",
       "      <td>Auto</td>\n",
       "      <td>North</td>\n",
       "      <td>1</td>\n",
       "    </tr>\n",
       "    <tr>\n",
       "      <th>9996</th>\n",
       "      <td>600</td>\n",
       "      <td>70660</td>\n",
       "      <td>22223</td>\n",
       "      <td>5.530068</td>\n",
       "      <td>0.695015</td>\n",
       "      <td>Self-Employed</td>\n",
       "      <td>College</td>\n",
       "      <td>Married</td>\n",
       "      <td>Education</td>\n",
       "      <td>North</td>\n",
       "      <td>0</td>\n",
       "    </tr>\n",
       "    <tr>\n",
       "      <th>9997</th>\n",
       "      <td>664</td>\n",
       "      <td>55675</td>\n",
       "      <td>12493</td>\n",
       "      <td>6.233002</td>\n",
       "      <td>0.800017</td>\n",
       "      <td>Employed</td>\n",
       "      <td>High School</td>\n",
       "      <td>Divorced</td>\n",
       "      <td>Education</td>\n",
       "      <td>West</td>\n",
       "      <td>0</td>\n",
       "    </tr>\n",
       "    <tr>\n",
       "      <th>9999</th>\n",
       "      <td>732</td>\n",
       "      <td>25701</td>\n",
       "      <td>13855</td>\n",
       "      <td>5.711949</td>\n",
       "      <td>1.003162</td>\n",
       "      <td>Unemployed</td>\n",
       "      <td>College</td>\n",
       "      <td>Divorced</td>\n",
       "      <td>Business</td>\n",
       "      <td>North</td>\n",
       "      <td>0</td>\n",
       "    </tr>\n",
       "  </tbody>\n",
       "</table>\n",
       "<p>9001 rows × 11 columns</p>\n",
       "</div>"
      ],
      "text/plain": [
       "      Credit_Score  Income  Loan_Amount  Interest_Rate  Loan_to_Value_Ratio  \\\n",
       "0              724   39822        16741       1.038856             0.605628   \n",
       "1              693   45417        16416       2.890029             0.902540   \n",
       "2              732   41039        10317       3.825943             0.660363   \n",
       "3              776   51656        17897       5.299338             0.718114   \n",
       "4              688   67957         7549       7.048325             0.843478   \n",
       "...            ...     ...          ...            ...                  ...   \n",
       "9994           759   64288         8693       3.046320             0.203005   \n",
       "9995           765   55817        12113       7.239302             0.711360   \n",
       "9996           600   70660        22223       5.530068             0.695015   \n",
       "9997           664   55675        12493       6.233002             0.800017   \n",
       "9999           732   25701        13855       5.711949             1.003162   \n",
       "\n",
       "     Employment_Status  Education_Level Marital_Status Loan_Purpose Region  \\\n",
       "0        Self-Employed      High School       Divorced         Home   West   \n",
       "1             Employed  Graduate School       Divorced     Personal   East   \n",
       "2           Unemployed      High School        Married     Personal  North   \n",
       "3        Self-Employed          College       Divorced         Auto   West   \n",
       "4           Unemployed  Graduate School        Married    Education  South   \n",
       "...                ...              ...            ...          ...    ...   \n",
       "9994          Employed  Graduate School        Widowed         Auto  South   \n",
       "9995        Unemployed  Graduate School       Divorced         Auto  North   \n",
       "9996     Self-Employed          College        Married    Education  North   \n",
       "9997          Employed      High School       Divorced    Education   West   \n",
       "9999        Unemployed          College       Divorced     Business  North   \n",
       "\n",
       "      Default_60  \n",
       "0              0  \n",
       "1              0  \n",
       "2              0  \n",
       "3              1  \n",
       "4              1  \n",
       "...          ...  \n",
       "9994           1  \n",
       "9995           1  \n",
       "9996           0  \n",
       "9997           0  \n",
       "9999           0  \n",
       "\n",
       "[9001 rows x 11 columns]"
      ]
     },
     "execution_count": 14,
     "metadata": {},
     "output_type": "execute_result"
    }
   ],
   "source": [
    "Outliers.isolation(df,'Loan_Amount',0.1)"
   ]
  },
  {
   "cell_type": "code",
   "execution_count": 15,
   "id": "667b9550",
   "metadata": {},
   "outputs": [
    {
     "data": {
      "text/html": [
       "<div>\n",
       "<style scoped>\n",
       "    .dataframe tbody tr th:only-of-type {\n",
       "        vertical-align: middle;\n",
       "    }\n",
       "\n",
       "    .dataframe tbody tr th {\n",
       "        vertical-align: top;\n",
       "    }\n",
       "\n",
       "    .dataframe thead th {\n",
       "        text-align: right;\n",
       "    }\n",
       "</style>\n",
       "<table border=\"1\" class=\"dataframe\">\n",
       "  <thead>\n",
       "    <tr style=\"text-align: right;\">\n",
       "      <th></th>\n",
       "      <th>Credit_Score</th>\n",
       "      <th>Income</th>\n",
       "      <th>Loan_Amount</th>\n",
       "      <th>Interest_Rate</th>\n",
       "      <th>Loan_to_Value_Ratio</th>\n",
       "      <th>Employment_Status</th>\n",
       "      <th>Education_Level</th>\n",
       "      <th>Marital_Status</th>\n",
       "      <th>Loan_Purpose</th>\n",
       "      <th>Region</th>\n",
       "      <th>Default_60</th>\n",
       "    </tr>\n",
       "  </thead>\n",
       "  <tbody>\n",
       "    <tr>\n",
       "      <th>0</th>\n",
       "      <td>724</td>\n",
       "      <td>39822</td>\n",
       "      <td>16741</td>\n",
       "      <td>1.038856</td>\n",
       "      <td>0.605628</td>\n",
       "      <td>1</td>\n",
       "      <td>1</td>\n",
       "      <td>1</td>\n",
       "      <td>1</td>\n",
       "      <td>1</td>\n",
       "      <td>0</td>\n",
       "    </tr>\n",
       "    <tr>\n",
       "      <th>1</th>\n",
       "      <td>693</td>\n",
       "      <td>45417</td>\n",
       "      <td>16416</td>\n",
       "      <td>2.890029</td>\n",
       "      <td>0.902540</td>\n",
       "      <td>2</td>\n",
       "      <td>2</td>\n",
       "      <td>1</td>\n",
       "      <td>2</td>\n",
       "      <td>2</td>\n",
       "      <td>0</td>\n",
       "    </tr>\n",
       "    <tr>\n",
       "      <th>2</th>\n",
       "      <td>732</td>\n",
       "      <td>41039</td>\n",
       "      <td>10317</td>\n",
       "      <td>3.825943</td>\n",
       "      <td>0.660363</td>\n",
       "      <td>3</td>\n",
       "      <td>1</td>\n",
       "      <td>2</td>\n",
       "      <td>2</td>\n",
       "      <td>3</td>\n",
       "      <td>0</td>\n",
       "    </tr>\n",
       "    <tr>\n",
       "      <th>3</th>\n",
       "      <td>776</td>\n",
       "      <td>51656</td>\n",
       "      <td>17897</td>\n",
       "      <td>5.299338</td>\n",
       "      <td>0.718114</td>\n",
       "      <td>1</td>\n",
       "      <td>3</td>\n",
       "      <td>1</td>\n",
       "      <td>3</td>\n",
       "      <td>1</td>\n",
       "      <td>1</td>\n",
       "    </tr>\n",
       "    <tr>\n",
       "      <th>4</th>\n",
       "      <td>688</td>\n",
       "      <td>67957</td>\n",
       "      <td>7549</td>\n",
       "      <td>7.048325</td>\n",
       "      <td>0.843478</td>\n",
       "      <td>3</td>\n",
       "      <td>2</td>\n",
       "      <td>2</td>\n",
       "      <td>4</td>\n",
       "      <td>4</td>\n",
       "      <td>1</td>\n",
       "    </tr>\n",
       "    <tr>\n",
       "      <th>...</th>\n",
       "      <td>...</td>\n",
       "      <td>...</td>\n",
       "      <td>...</td>\n",
       "      <td>...</td>\n",
       "      <td>...</td>\n",
       "      <td>...</td>\n",
       "      <td>...</td>\n",
       "      <td>...</td>\n",
       "      <td>...</td>\n",
       "      <td>...</td>\n",
       "      <td>...</td>\n",
       "    </tr>\n",
       "    <tr>\n",
       "      <th>9995</th>\n",
       "      <td>765</td>\n",
       "      <td>55817</td>\n",
       "      <td>12113</td>\n",
       "      <td>7.239302</td>\n",
       "      <td>0.711360</td>\n",
       "      <td>3</td>\n",
       "      <td>2</td>\n",
       "      <td>1</td>\n",
       "      <td>3</td>\n",
       "      <td>3</td>\n",
       "      <td>1</td>\n",
       "    </tr>\n",
       "    <tr>\n",
       "      <th>9996</th>\n",
       "      <td>600</td>\n",
       "      <td>70660</td>\n",
       "      <td>22223</td>\n",
       "      <td>5.530068</td>\n",
       "      <td>0.695015</td>\n",
       "      <td>1</td>\n",
       "      <td>3</td>\n",
       "      <td>2</td>\n",
       "      <td>4</td>\n",
       "      <td>3</td>\n",
       "      <td>0</td>\n",
       "    </tr>\n",
       "    <tr>\n",
       "      <th>9997</th>\n",
       "      <td>664</td>\n",
       "      <td>55675</td>\n",
       "      <td>12493</td>\n",
       "      <td>6.233002</td>\n",
       "      <td>0.800017</td>\n",
       "      <td>2</td>\n",
       "      <td>1</td>\n",
       "      <td>1</td>\n",
       "      <td>4</td>\n",
       "      <td>1</td>\n",
       "      <td>0</td>\n",
       "    </tr>\n",
       "    <tr>\n",
       "      <th>9998</th>\n",
       "      <td>724</td>\n",
       "      <td>75702</td>\n",
       "      <td>5538</td>\n",
       "      <td>6.629247</td>\n",
       "      <td>0.753043</td>\n",
       "      <td>3</td>\n",
       "      <td>3</td>\n",
       "      <td>4</td>\n",
       "      <td>3</td>\n",
       "      <td>1</td>\n",
       "      <td>1</td>\n",
       "    </tr>\n",
       "    <tr>\n",
       "      <th>9999</th>\n",
       "      <td>732</td>\n",
       "      <td>25701</td>\n",
       "      <td>13855</td>\n",
       "      <td>5.711949</td>\n",
       "      <td>1.003162</td>\n",
       "      <td>3</td>\n",
       "      <td>3</td>\n",
       "      <td>1</td>\n",
       "      <td>5</td>\n",
       "      <td>3</td>\n",
       "      <td>0</td>\n",
       "    </tr>\n",
       "  </tbody>\n",
       "</table>\n",
       "<p>10000 rows × 11 columns</p>\n",
       "</div>"
      ],
      "text/plain": [
       "      Credit_Score  Income  Loan_Amount  Interest_Rate  Loan_to_Value_Ratio  \\\n",
       "0              724   39822        16741       1.038856             0.605628   \n",
       "1              693   45417        16416       2.890029             0.902540   \n",
       "2              732   41039        10317       3.825943             0.660363   \n",
       "3              776   51656        17897       5.299338             0.718114   \n",
       "4              688   67957         7549       7.048325             0.843478   \n",
       "...            ...     ...          ...            ...                  ...   \n",
       "9995           765   55817        12113       7.239302             0.711360   \n",
       "9996           600   70660        22223       5.530068             0.695015   \n",
       "9997           664   55675        12493       6.233002             0.800017   \n",
       "9998           724   75702         5538       6.629247             0.753043   \n",
       "9999           732   25701        13855       5.711949             1.003162   \n",
       "\n",
       "     Employment_Status Education_Level Marital_Status Loan_Purpose Region  \\\n",
       "0                    1               1              1            1      1   \n",
       "1                    2               2              1            2      2   \n",
       "2                    3               1              2            2      3   \n",
       "3                    1               3              1            3      1   \n",
       "4                    3               2              2            4      4   \n",
       "...                ...             ...            ...          ...    ...   \n",
       "9995                 3               2              1            3      3   \n",
       "9996                 1               3              2            4      3   \n",
       "9997                 2               1              1            4      1   \n",
       "9998                 3               3              4            3      1   \n",
       "9999                 3               3              1            5      3   \n",
       "\n",
       "      Default_60  \n",
       "0              0  \n",
       "1              0  \n",
       "2              0  \n",
       "3              1  \n",
       "4              1  \n",
       "...          ...  \n",
       "9995           1  \n",
       "9996           0  \n",
       "9997           0  \n",
       "9998           1  \n",
       "9999           0  \n",
       "\n",
       "[10000 rows x 11 columns]"
      ]
     },
     "execution_count": 15,
     "metadata": {},
     "output_type": "execute_result"
    }
   ],
   "source": [
    "limpieza.categorize(df)"
   ]
  },
  {
   "cell_type": "code",
   "execution_count": 16,
   "id": "2abd5bcf",
   "metadata": {},
   "outputs": [
    {
     "name": "stdout",
     "output_type": "stream",
     "text": [
      "<class 'pandas.core.frame.DataFrame'>\n",
      "RangeIndex: 10000 entries, 0 to 9999\n",
      "Data columns (total 11 columns):\n",
      " #   Column               Non-Null Count  Dtype  \n",
      "---  ------               --------------  -----  \n",
      " 0   Credit_Score         10000 non-null  int64  \n",
      " 1   Income               10000 non-null  int64  \n",
      " 2   Loan_Amount          10000 non-null  int64  \n",
      " 3   Interest_Rate        10000 non-null  float64\n",
      " 4   Loan_to_Value_Ratio  10000 non-null  float64\n",
      " 5   Employment_Status    10000 non-null  object \n",
      " 6   Education_Level      10000 non-null  object \n",
      " 7   Marital_Status       10000 non-null  object \n",
      " 8   Loan_Purpose         10000 non-null  object \n",
      " 9   Region               10000 non-null  object \n",
      " 10  Default_60           10000 non-null  int64  \n",
      "dtypes: float64(2), int64(4), object(5)\n",
      "memory usage: 859.5+ KB\n"
     ]
    }
   ],
   "source": [
    "df.info()"
   ]
  },
  {
   "cell_type": "code",
   "execution_count": 17,
   "id": "5ff047a5",
   "metadata": {},
   "outputs": [
    {
     "data": {
      "text/plain": [
       "[<AxesSubplot:ylabel='Employment_Status'>,\n",
       " <AxesSubplot:ylabel='Education_Level'>,\n",
       " <AxesSubplot:ylabel='Marital_Status'>,\n",
       " <AxesSubplot:ylabel='Loan_Purpose'>,\n",
       " <AxesSubplot:ylabel='Region'>]"
      ]
     },
     "execution_count": 17,
     "metadata": {},
     "output_type": "execute_result"
    },
    {
     "data": {
      "image/png": "[encoded data removed]",
      "text/plain": [
       "<Figure size 432x288 with 1 Axes>"
      ]
     },
     "metadata": {
      "needs_background": "light"
     },
     "output_type": "display_data"
    },
    {
     "data": {
      "image/png": "[encoded data removed]",
      "text/plain": [
       "<Figure size 432x288 with 1 Axes>"
      ]
     },
     "metadata": {
      "needs_background": "light"
     },
     "output_type": "display_data"
    },
    {
     "data": {
      "image/png": "[encoded data removed]",
      "text/plain": [
       "<Figure size 432x288 with 1 Axes>"
      ]
     },
     "metadata": {
      "needs_background": "light"
     },
     "output_type": "display_data"
    },
    {
     "data": {
      "image/png": "[encoded data removed]",
      "text/plain": [
       "<Figure size 432x288 with 1 Axes>"
      ]
     },
     "metadata": {
      "needs_background": "light"
     },
     "output_type": "display_data"
    },
    {
     "data": {
      "image/png": "[encoded data removed]",
      "text/plain": [
       "<Figure size 432x288 with 1 Axes>"
      ]
     },
     "metadata": {
      "needs_background": "light"
     },
     "output_type": "display_data"
    }
   ],
   "source": [
    "analisis_bi_multi.contingency(df,df['Default_60'])"
   ]
  },
  {
   "cell_type": "code",
   "execution_count": 18,
   "id": "4a80e460",
   "metadata": {},
   "outputs": [
    {
     "data": {
      "text/html": [
       "<div>\n",
       "<style scoped>\n",
       "    .dataframe tbody tr th:only-of-type {\n",
       "        vertical-align: middle;\n",
       "    }\n",
       "\n",
       "    .dataframe tbody tr th {\n",
       "        vertical-align: top;\n",
       "    }\n",
       "\n",
       "    .dataframe thead th {\n",
       "        text-align: right;\n",
       "    }\n",
       "</style>\n",
       "<table border=\"1\" class=\"dataframe\">\n",
       "  <thead>\n",
       "    <tr style=\"text-align: right;\">\n",
       "      <th></th>\n",
       "      <th>Correlation</th>\n",
       "      <th>P-Value</th>\n",
       "    </tr>\n",
       "  </thead>\n",
       "  <tbody>\n",
       "    <tr>\n",
       "      <th>Credit_Score</th>\n",
       "      <td>0.004798</td>\n",
       "      <td>0.631376</td>\n",
       "    </tr>\n",
       "    <tr>\n",
       "      <th>Income</th>\n",
       "      <td>0.006696</td>\n",
       "      <td>0.503132</td>\n",
       "    </tr>\n",
       "    <tr>\n",
       "      <th>Loan_Amount</th>\n",
       "      <td>0.015790</td>\n",
       "      <td>0.114362</td>\n",
       "    </tr>\n",
       "    <tr>\n",
       "      <th>Interest_Rate</th>\n",
       "      <td>-0.010920</td>\n",
       "      <td>0.274861</td>\n",
       "    </tr>\n",
       "    <tr>\n",
       "      <th>Loan_to_Value_Ratio</th>\n",
       "      <td>0.000361</td>\n",
       "      <td>0.971237</td>\n",
       "    </tr>\n",
       "    <tr>\n",
       "      <th>Employment_Status</th>\n",
       "      <td>0.005708</td>\n",
       "      <td>0.568204</td>\n",
       "    </tr>\n",
       "    <tr>\n",
       "      <th>Education_Level</th>\n",
       "      <td>-0.003960</td>\n",
       "      <td>0.692167</td>\n",
       "    </tr>\n",
       "    <tr>\n",
       "      <th>Marital_Status</th>\n",
       "      <td>0.009184</td>\n",
       "      <td>0.358462</td>\n",
       "    </tr>\n",
       "    <tr>\n",
       "      <th>Loan_Purpose</th>\n",
       "      <td>0.014081</td>\n",
       "      <td>0.159136</td>\n",
       "    </tr>\n",
       "    <tr>\n",
       "      <th>Region</th>\n",
       "      <td>0.006070</td>\n",
       "      <td>0.543876</td>\n",
       "    </tr>\n",
       "  </tbody>\n",
       "</table>\n",
       "</div>"
      ],
      "text/plain": [
       "                     Correlation   P-Value\n",
       "Credit_Score            0.004798  0.631376\n",
       "Income                  0.006696  0.503132\n",
       "Loan_Amount             0.015790  0.114362\n",
       "Interest_Rate          -0.010920  0.274861\n",
       "Loan_to_Value_Ratio     0.000361  0.971237\n",
       "Employment_Status       0.005708  0.568204\n",
       "Education_Level        -0.003960  0.692167\n",
       "Marital_Status          0.009184  0.358462\n",
       "Loan_Purpose            0.014081  0.159136\n",
       "Region                  0.006070  0.543876"
      ]
     },
     "execution_count": 18,
     "metadata": {},
     "output_type": "execute_result"
    }
   ],
   "source": [
    "analisis_bi_multi.correlation(df,'Default_60')"
   ]
  },
  {
   "cell_type": "code",
   "execution_count": 19,
   "id": "0c2be83e",
   "metadata": {},
   "outputs": [
    {
     "data": {
      "text/html": [
       "<div>\n",
       "<style scoped>\n",
       "    .dataframe tbody tr th:only-of-type {\n",
       "        vertical-align: middle;\n",
       "    }\n",
       "\n",
       "    .dataframe tbody tr th {\n",
       "        vertical-align: top;\n",
       "    }\n",
       "\n",
       "    .dataframe thead th {\n",
       "        text-align: right;\n",
       "    }\n",
       "</style>\n",
       "<table border=\"1\" class=\"dataframe\">\n",
       "  <thead>\n",
       "    <tr style=\"text-align: right;\">\n",
       "      <th></th>\n",
       "      <th>Cluster</th>\n",
       "      <th>Variable</th>\n",
       "      <th>RS_Own</th>\n",
       "      <th>RS_NC</th>\n",
       "      <th>RS_Ratio</th>\n",
       "    </tr>\n",
       "  </thead>\n",
       "  <tbody>\n",
       "    <tr>\n",
       "      <th>0</th>\n",
       "      <td>0</td>\n",
       "      <td>Loan_Amount</td>\n",
       "      <td>1.0</td>\n",
       "      <td>0.000719</td>\n",
       "      <td>2.222043e-16</td>\n",
       "    </tr>\n",
       "    <tr>\n",
       "      <th>1</th>\n",
       "      <td>1</td>\n",
       "      <td>Marital_Status</td>\n",
       "      <td>1.0</td>\n",
       "      <td>0.000328</td>\n",
       "      <td>2.221174e-16</td>\n",
       "    </tr>\n",
       "    <tr>\n",
       "      <th>2</th>\n",
       "      <td>2</td>\n",
       "      <td>Default_60</td>\n",
       "      <td>1.0</td>\n",
       "      <td>0.000275</td>\n",
       "      <td>0.000000e+00</td>\n",
       "    </tr>\n",
       "    <tr>\n",
       "      <th>3</th>\n",
       "      <td>3</td>\n",
       "      <td>Employment_Status</td>\n",
       "      <td>1.0</td>\n",
       "      <td>0.000177</td>\n",
       "      <td>0.000000e+00</td>\n",
       "    </tr>\n",
       "    <tr>\n",
       "      <th>4</th>\n",
       "      <td>4</td>\n",
       "      <td>Region</td>\n",
       "      <td>1.0</td>\n",
       "      <td>0.000273</td>\n",
       "      <td>0.000000e+00</td>\n",
       "    </tr>\n",
       "    <tr>\n",
       "      <th>5</th>\n",
       "      <td>5</td>\n",
       "      <td>Loan_to_Value_Ratio</td>\n",
       "      <td>1.0</td>\n",
       "      <td>0.000163</td>\n",
       "      <td>0.000000e+00</td>\n",
       "    </tr>\n",
       "    <tr>\n",
       "      <th>6</th>\n",
       "      <td>6</td>\n",
       "      <td>Interest_Rate</td>\n",
       "      <td>1.0</td>\n",
       "      <td>0.000199</td>\n",
       "      <td>0.000000e+00</td>\n",
       "    </tr>\n",
       "    <tr>\n",
       "      <th>7</th>\n",
       "      <td>7</td>\n",
       "      <td>Loan_Purpose</td>\n",
       "      <td>1.0</td>\n",
       "      <td>0.000199</td>\n",
       "      <td>0.000000e+00</td>\n",
       "    </tr>\n",
       "    <tr>\n",
       "      <th>8</th>\n",
       "      <td>8</td>\n",
       "      <td>Education_Level</td>\n",
       "      <td>1.0</td>\n",
       "      <td>0.000325</td>\n",
       "      <td>0.000000e+00</td>\n",
       "    </tr>\n",
       "    <tr>\n",
       "      <th>9</th>\n",
       "      <td>9</td>\n",
       "      <td>Credit_Score</td>\n",
       "      <td>1.0</td>\n",
       "      <td>0.000715</td>\n",
       "      <td>0.000000e+00</td>\n",
       "    </tr>\n",
       "    <tr>\n",
       "      <th>10</th>\n",
       "      <td>10</td>\n",
       "      <td>Income</td>\n",
       "      <td>1.0</td>\n",
       "      <td>0.000719</td>\n",
       "      <td>0.000000e+00</td>\n",
       "    </tr>\n",
       "  </tbody>\n",
       "</table>\n",
       "</div>"
      ],
      "text/plain": [
       "   Cluster             Variable  RS_Own     RS_NC      RS_Ratio\n",
       "0        0          Loan_Amount     1.0  0.000719  2.222043e-16\n",
       "1        1       Marital_Status     1.0  0.000328  2.221174e-16\n",
       "2        2           Default_60     1.0  0.000275  0.000000e+00\n",
       "3        3    Employment_Status     1.0  0.000177  0.000000e+00\n",
       "4        4               Region     1.0  0.000273  0.000000e+00\n",
       "5        5  Loan_to_Value_Ratio     1.0  0.000163  0.000000e+00\n",
       "6        6        Interest_Rate     1.0  0.000199  0.000000e+00\n",
       "7        7         Loan_Purpose     1.0  0.000199  0.000000e+00\n",
       "8        8      Education_Level     1.0  0.000325  0.000000e+00\n",
       "9        9         Credit_Score     1.0  0.000715  0.000000e+00\n",
       "10      10               Income     1.0  0.000719  0.000000e+00"
      ]
     },
     "execution_count": 19,
     "metadata": {},
     "output_type": "execute_result"
    }
   ],
   "source": [
    "analisis_bi_multi.varclus(df)"
   ]
  },
  {
   "cell_type": "code",
   "execution_count": 20,
   "id": "a82e6d82",
   "metadata": {},
   "outputs": [
    {
     "data": {
      "text/plain": [
       "{'Credit_Score':                      Bin  Count  Count (%)  Non-event  Event  Event rate  \\\n",
       " 0         (-inf, 670.50)   2818     0.2818       1651   1167    0.414123   \n",
       " 1       [670.50, 709.50)   2982     0.2982       1796   1186    0.397720   \n",
       " 2       [709.50, 716.50)    557     0.0557        356    201    0.360862   \n",
       " 3       [716.50, 728.50)    848     0.0848        499    349    0.411557   \n",
       " 4       [728.50, 753.50)   1385     0.1385        805    580    0.418773   \n",
       " 5          [753.50, inf)   1410     0.1410        816    594    0.421277   \n",
       " 6                Special      0     0.0000          0      0    0.000000   \n",
       " 7                Missing      0     0.0000          0      0    0.000000   \n",
       " Totals                    10000     1.0000       5923   4077    0.407700   \n",
       " \n",
       "              WoE        IV        JS  \n",
       " 0      -0.026537  0.000199  0.000025  \n",
       " 1       0.041494  0.000511  0.000064  \n",
       " 2       0.198144  0.002141  0.000267  \n",
       " 3      -0.015947  0.000022  0.000003  \n",
       " 4      -0.045667  0.000290  0.000036  \n",
       " 5      -0.055947  0.000444  0.000055  \n",
       " 6            0.0  0.000000  0.000000  \n",
       " 7            0.0  0.000000  0.000000  \n",
       " Totals            0.003606  0.000450  ,\n",
       " 'Income':                          Bin  Count  Count (%)  Non-event  Event  Event rate  \\\n",
       " 0           (-inf, 30757.00)    959     0.0959        546    413    0.430657   \n",
       " 1       [30757.00, 58753.00)   6208     0.6208       3702   2506    0.403673   \n",
       " 2       [58753.00, 61520.00)    568     0.0568        363    205    0.360915   \n",
       " 3       [61520.00, 67226.00)    971     0.0971        579    392    0.403708   \n",
       " 4            [67226.00, inf)   1294     0.1294        733    561    0.433539   \n",
       " 5                    Special      0     0.0000          0      0    0.000000   \n",
       " 6                    Missing      0     0.0000          0      0    0.000000   \n",
       " Totals                        10000     1.0000       5923   4077    0.407700   \n",
       " \n",
       "              WoE        IV        JS  \n",
       " 0       -0.09431  0.000860  0.000107  \n",
       " 1       0.016704  0.000173  0.000022  \n",
       " 2       0.197911  0.002178  0.000272  \n",
       " 3       0.016559  0.000027  0.000003  \n",
       " 4      -0.106057  0.001468  0.000183  \n",
       " 5            0.0  0.000000  0.000000  \n",
       " 6            0.0  0.000000  0.000000  \n",
       " Totals            0.004706  0.000588  ,\n",
       " 'Loan_Amount':                          Bin  Count  Count (%)  Non-event  Event  Event rate  \\\n",
       " 0           (-inf, 11388.50)   2437     0.2437       1449    988    0.405416   \n",
       " 1       [11388.50, 12976.00)   1005     0.1005        601    404    0.401990   \n",
       " 2       [12976.00, 15130.50)   1699     0.1699       1019    680    0.400235   \n",
       " 3       [15130.50, 15734.50)    506     0.0506        339    167    0.330040   \n",
       " 4       [15734.50, 23175.50)   3853     0.3853       2237   1616    0.419413   \n",
       " 5            [23175.50, inf)    500     0.0500        278    222    0.444000   \n",
       " 6                    Special      0     0.0000          0      0    0.000000   \n",
       " 7                    Missing      0     0.0000          0      0    0.000000   \n",
       " Totals                        10000     1.0000       5923   4077    0.407700   \n",
       " \n",
       "              WoE        IV        JS  \n",
       " 0       0.009465  0.000022  0.000003  \n",
       " 1       0.023698  0.000056  0.000007  \n",
       " 2       0.031003  0.000163  0.000020  \n",
       " 3       0.334525  0.005444  0.000677  \n",
       " 4        -0.0483  0.000903  0.000113  \n",
       " 5      -0.148538  0.001116  0.000139  \n",
       " 6            0.0  0.000000  0.000000  \n",
       " 7            0.0  0.000000  0.000000  \n",
       " Totals            0.007704  0.000960  ,\n",
       " 'Interest_Rate':                  Bin  Count  Count (%)  Non-event  Event  Event rate  \\\n",
       " 0       (-inf, 2.45)   1028     0.1028        594    434    0.422179   \n",
       " 1       [2.45, 4.75)   3482     0.3482       2035   1447    0.415566   \n",
       " 2       [4.75, 4.99)    509     0.0509        332    177    0.347741   \n",
       " 3       [4.99, 7.63)   4053     0.4053       2411   1642    0.405132   \n",
       " 4        [7.63, inf)    928     0.0928        551    377    0.406250   \n",
       " 5            Special      0     0.0000          0      0    0.000000   \n",
       " 6            Missing      0     0.0000          0      0    0.000000   \n",
       " Totals                10000     1.0000       5923   4077    0.407700   \n",
       " \n",
       "              WoE        IV            JS  \n",
       " 0      -0.059647  0.000368  4.594965e-05  \n",
       " 1      -0.032478  0.000368  4.604382e-05  \n",
       " 2       0.255504  0.003229  4.025502e-04  \n",
       " 3       0.010645  0.000046  5.735087e-06  \n",
       " 4       0.006008  0.000003  4.184760e-07  \n",
       " 5            0.0  0.000000  0.000000e+00  \n",
       " 6            0.0  0.000000  0.000000e+00  \n",
       " Totals            0.004014  5.006972e-04  ,\n",
       " 'Loan_to_Value_Ratio':                  Bin  Count  Count (%)  Non-event  Event  Event rate  \\\n",
       " 0       (-inf, 0.57)   2472     0.2472       1441   1031    0.417071   \n",
       " 1       [0.57, 0.63)   1173     0.1173        693    480    0.409207   \n",
       " 2       [0.63, 0.68)    843     0.0843        519    324    0.384342   \n",
       " 3       [0.68, 0.71)    670     0.0670        432    238    0.355224   \n",
       " 4       [0.71, 0.80)   1757     0.1757       1037    720    0.409789   \n",
       " 5        [0.80, inf)   3085     0.3085       1801   1284    0.416207   \n",
       " 6            Special      0     0.0000          0      0    0.000000   \n",
       " 7            Missing      0     0.0000          0      0    0.000000   \n",
       " Totals                10000     1.0000       5923   4077    0.407700   \n",
       " \n",
       "              WoE        IV            JS  \n",
       " 0      -0.038674  0.000371  4.637223e-05  \n",
       " 1      -0.006238  0.000005  5.708383e-07  \n",
       " 2       0.097679  0.000797  9.952332e-05  \n",
       " 3       0.222673  0.003242  4.044233e-04  \n",
       " 4      -0.008646  0.000013  1.642935e-06  \n",
       " 5       -0.03512  0.000382  4.771029e-05  \n",
       " 6            0.0  0.000000  0.000000e+00  \n",
       " 7            0.0  0.000000  0.000000e+00  \n",
       " Totals            0.004809  6.002430e-04  ,\n",
       " 'Default_60':                 Bin  Count  Count (%)  Non-event  Event  Event rate  WoE   IV  \\\n",
       " 0       (-inf, inf)  10000        1.0       5923   4077      0.4077  0.0  0.0   \n",
       " 1           Special      0        0.0          0      0      0.0000  0.0  0.0   \n",
       " 2           Missing      0        0.0          0      0      0.0000  0.0  0.0   \n",
       " Totals               10000        1.0       5923   4077      0.4077       0.0   \n",
       " \n",
       "          JS  \n",
       " 0       0.0  \n",
       " 1       0.0  \n",
       " 2       0.0  \n",
       " Totals  0.0  }"
      ]
     },
     "execution_count": 20,
     "metadata": {},
     "output_type": "execute_result"
    }
   ],
   "source": [
    "analisis_bi_multi.woenum(df,df['Default_60'])"
   ]
  },
  {
   "cell_type": "code",
   "execution_count": 21,
   "id": "2f93bad0",
   "metadata": {},
   "outputs": [
    {
     "data": {
      "image/png": "[encoded data removed]",
      "text/plain": [
       "<Figure size 432x288 with 2 Axes>"
      ]
     },
     "metadata": {
      "needs_background": "light"
     },
     "output_type": "display_data"
    },
    {
     "data": {
      "image/png": "[encoded data removed]",
      "text/plain": [
       "<Figure size 432x288 with 2 Axes>"
      ]
     },
     "metadata": {
      "needs_background": "light"
     },
     "output_type": "display_data"
    },
    {
     "data": {
      "image/png": "[encoded data removed]",
      "text/plain": [
       "<Figure size 432x288 with 2 Axes>"
      ]
     },
     "metadata": {
      "needs_background": "light"
     },
     "output_type": "display_data"
    },
    {
     "data": {
      "image/png": "[encoded data removed]",
      "text/plain": [
       "<Figure size 432x288 with 2 Axes>"
      ]
     },
     "metadata": {
      "needs_background": "light"
     },
     "output_type": "display_data"
    },
    {
     "data": {
      "image/png": "[encoded data removed]",
      "text/plain": [
       "<Figure size 432x288 with 2 Axes>"
      ]
     },
     "metadata": {
      "needs_background": "light"
     },
     "output_type": "display_data"
    },
    {
     "data": {
      "image/png": "[encoded data removed]",
      "text/plain": [
       "<Figure size 432x288 with 2 Axes>"
      ]
     },
     "metadata": {
      "needs_background": "light"
     },
     "output_type": "display_data"
    },
    {
     "data": {
      "text/plain": [
       "[None, None, None, None, None, None]"
      ]
     },
     "execution_count": 21,
     "metadata": {},
     "output_type": "execute_result"
    }
   ],
   "source": [
    "analisis_bi_multi.woegrafnum(df,df['Default_60'])"
   ]
  },
  {
   "cell_type": "code",
   "execution_count": 22,
   "id": "5e415dda",
   "metadata": {},
   "outputs": [
    {
     "data": {
      "text/plain": [
       "{'Employment_Status':             Bin  Count  Count (%)  Non-event  Event  Event rate       WoE  \\\n",
       " 0           [1]   3333     0.3333       2004   1329    0.398740  0.037237   \n",
       " 1           [3]   3292     0.3292       1957   1335    0.405529     0.009   \n",
       " 2           [2]   3375     0.3375       1962   1413    0.418667 -0.045232   \n",
       " 3       Special      0     0.0000          0      0    0.000000       0.0   \n",
       " 4       Missing      0     0.0000          0      0    0.000000       0.0   \n",
       " Totals           10000     1.0000       5923   4077    0.407700             \n",
       " \n",
       "               IV        JS  \n",
       " 0       0.000461  0.000058  \n",
       " 1       0.000027  0.000003  \n",
       " 2       0.000693  0.000087  \n",
       " 3       0.000000  0.000000  \n",
       " 4       0.000000  0.000000  \n",
       " Totals  0.001180  0.000148  ,\n",
       " 'Education_Level':             Bin  Count  Count (%)  Non-event  Event  Event rate       WoE  \\\n",
       " 0           [3]   3312     0.3312       1976   1336    0.403382  0.017913   \n",
       " 1           [1]   3410     0.3410       2018   1392    0.408211 -0.002116   \n",
       " 2           [2]   3278     0.3278       1929   1349    0.411531 -0.015843   \n",
       " 3       Special      0     0.0000          0      0    0.000000       0.0   \n",
       " 4       Missing      0     0.0000          0      0    0.000000       0.0   \n",
       " Totals           10000     1.0000       5923   4077    0.407700             \n",
       " \n",
       "               IV            JS  \n",
       " 0       0.000106  1.326160e-05  \n",
       " 1       0.000002  1.909417e-07  \n",
       " 2       0.000082  1.030014e-05  \n",
       " 3       0.000000  0.000000e+00  \n",
       " 4       0.000000  0.000000e+00  \n",
       " Totals  0.000190  2.375268e-05  ,\n",
       " 'Marital_Status':             Bin  Count  Count (%)  Non-event  Event  Event rate       WoE  \\\n",
       " 0           [3]   2471     0.2471       1489    982    0.397410  0.042787   \n",
       " 1           [1]   2497     0.2497       1497   1000    0.400481  0.029981   \n",
       " 2           [2]   2562     0.2562       1503   1059    0.413349 -0.023344   \n",
       " 3           [4]   2470     0.2470       1434   1036    0.419433 -0.048381   \n",
       " 4       Special      0     0.0000          0      0    0.000000       0.0   \n",
       " 5       Missing      0     0.0000          0      0    0.000000       0.0   \n",
       " Totals           10000     1.0000       5923   4077    0.407700             \n",
       " \n",
       "               IV        JS  \n",
       " 0       0.000451  0.000056  \n",
       " 1       0.000224  0.000028  \n",
       " 2       0.000140  0.000017  \n",
       " 3       0.000581  0.000073  \n",
       " 4       0.000000  0.000000  \n",
       " 5       0.000000  0.000000  \n",
       " Totals  0.001395  0.000174  ,\n",
       " 'Loan_Purpose':             Bin  Count  Count (%)  Non-event  Event  Event rate       WoE  \\\n",
       " 0           [1]   1930     0.1930       1178    752    0.389637  0.075355   \n",
       " 1           [3]   1950     0.1950       1158    792    0.406154  0.006407   \n",
       " 2           [5]   2022     0.2022       1190    832    0.411474 -0.015606   \n",
       " 3           [2]   2083     0.2083       1225    858    0.411906  -0.01739   \n",
       " 4           [4]   2015     0.2015       1172    843    0.418362 -0.043982   \n",
       " 5       Special      0     0.0000          0      0    0.000000       0.0   \n",
       " 6       Missing      0     0.0000          0      0    0.000000       0.0   \n",
       " Totals           10000     1.0000       5923   4077    0.407700             \n",
       " \n",
       "               IV            JS  \n",
       " 0       0.001088  1.359499e-04  \n",
       " 1       0.000008  9.998679e-07  \n",
       " 2       0.000049  6.163959e-06  \n",
       " 3       0.000063  7.886080e-06  \n",
       " 4       0.000391  4.890905e-05  \n",
       " 5       0.000000  0.000000e+00  \n",
       " 6       0.000000  0.000000e+00  \n",
       " Totals  0.001600  1.999089e-04  ,\n",
       " 'Region':             Bin  Count  Count (%)  Non-event  Event  Event rate       WoE  \\\n",
       " 0           [1]   2549     0.2549       1523   1026    0.402511  0.021533   \n",
       " 1           [2]   2459     0.2459       1459   1000    0.406669   0.00427   \n",
       " 2           [4]   2486     0.2486       1468   1018    0.409493 -0.007421   \n",
       " 3           [3]   2506     0.2506       1473   1033    0.412211 -0.018648   \n",
       " 4       Special      0     0.0000          0      0    0.000000       0.0   \n",
       " 5       Missing      0     0.0000          0      0    0.000000       0.0   \n",
       " Totals           10000     1.0000       5923   4077    0.407700             \n",
       " \n",
       "               IV            JS  \n",
       " 0       0.000118  1.474308e-05  \n",
       " 1       0.000004  5.601110e-07  \n",
       " 2       0.000014  1.712334e-06  \n",
       " 3       0.000087  1.091117e-05  \n",
       " 4       0.000000  0.000000e+00  \n",
       " 5       0.000000  0.000000e+00  \n",
       " Totals  0.000223  2.792670e-05  }"
      ]
     },
     "execution_count": 22,
     "metadata": {},
     "output_type": "execute_result"
    }
   ],
   "source": [
    "analisis_bi_multi.woecat(df,df['Default_60'])"
   ]
  },
  {
   "cell_type": "code",
   "execution_count": 23,
   "id": "a12bd888",
   "metadata": {},
   "outputs": [
    {
     "data": {
      "image/png": "[encoded data removed]",
      "text/plain": [
       "<Figure size 432x288 with 2 Axes>"
      ]
     },
     "metadata": {
      "needs_background": "light"
     },
     "output_type": "display_data"
    },
    {
     "data": {
      "image/png": "[encoded data removed]",
      "text/plain": [
       "<Figure size 432x288 with 2 Axes>"
      ]
     },
     "metadata": {
      "needs_background": "light"
     },
     "output_type": "display_data"
    },
    {
     "data": {
      "image/png": "[encoded data removed]",
      "text/plain": [
       "<Figure size 432x288 with 2 Axes>"
      ]
     },
     "metadata": {
      "needs_background": "light"
     },
     "output_type": "display_data"
    },
    {
     "data": {
      "image/png": "[encoded data removed]",
      "text/plain": [
       "<Figure size 432x288 with 2 Axes>"
      ]
     },
     "metadata": {
      "needs_background": "light"
     },
     "output_type": "display_data"
    },
    {
     "data": {
      "image/png": "[encoded data removed]",
      "text/plain": [
       "<Figure size 432x288 with 2 Axes>"
      ]
     },
     "metadata": {
      "needs_background": "light"
     },
     "output_type": "display_data"
    },
    {
     "data": {
      "text/plain": [
       "[None, None, None, None, None]"
      ]
     },
     "execution_count": 23,
     "metadata": {},
     "output_type": "execute_result"
    }
   ],
   "source": [
    "analisis_bi_multi.woegrafcat(df,df['Default_60'])"
   ]
  },
  {
   "cell_type": "code",
   "execution_count": 24,
   "id": "d46e826a",
   "metadata": {},
   "outputs": [
    {
     "name": "stderr",
     "output_type": "stream",
     "text": [
      "D:\\Anaconda\\lib\\site-packages\\statsmodels\\base\\model.py:1889: FutureWarning: The behavior of wald_test will change after 0.14 to returning scalar test statistic values. To get the future behavior now, set scalar to True. To silence this message while retaining the legacy behavior, set scalar to False.\n",
      "  warnings.warn(\n"
     ]
    },
    {
     "data": {
      "text/plain": [
       "{'Credit_Score': <class 'statsmodels.stats.contrast.WaldTestResults'>\n",
       "                               F                     P>F  df constraint  df denom\n",
       " const      [[33.9377530775937]]  5.8660718135257165e-09              1    9998.0\n",
       " x      [[0.012055628179502334]]      0.9125716820053653              1    9998.0,\n",
       " 'Income': <class 'statsmodels.stats.contrast.WaldTestResults'>\n",
       "                              F                      P>F  df constraint  df denom\n",
       " const    [[543.1855239790001]]  4.8584889746973015e-117              1    9998.0\n",
       " x      [[0.23484087691082275]]       0.6279680088578079              1    9998.0,\n",
       " 'Loan_Amount': <class 'statsmodels.stats.contrast.WaldTestResults'>\n",
       "                            F                      P>F  df constraint  df denom\n",
       " const  [[603.0534726896359]]  2.3427420531133802e-129              1    9998.0\n",
       " x      [[2.751986531981103]]      0.09716504373568821              1    9998.0,\n",
       " 'Interest_Rate': <class 'statsmodels.stats.contrast.WaldTestResults'>\n",
       "                             F                     P>F  df constraint  df denom\n",
       " const   [[1217.698010816381]]  7.375639009126045e-252              1    9998.0\n",
       " x      [[1.1837318811022277]]     0.27662379252605507              1    9998.0,\n",
       " 'Loan_to_Value_Ratio': <class 'statsmodels.stats.contrast.WaldTestResults'>\n",
       "                              F                 P>F  df constraint  df denom\n",
       " const    [[6424.959559318961]]                 0.0              1    9998.0\n",
       " x      [[0.06841098771248305]]  0.7936699736698648              1    9998.0,\n",
       " 'Employment_Status': <class 'statsmodels.stats.contrast.WaldTestResults'>\n",
       "                              F                     P>F  df constraint  df denom\n",
       " const    [[948.6553603165347]]  4.269796698309873e-199              1    9998.0\n",
       " x      [[0.32249432945854273]]      0.5701252383922917              1    9998.0,\n",
       " 'Education_Level': <class 'statsmodels.stats.contrast.WaldTestResults'>\n",
       "                              F                      P>F  df constraint  df denom\n",
       " const    [[1021.779175985007]]  1.4501714098877038e-213              1    9998.0\n",
       " x      [[0.15859964822323339]]        0.690457575986085              1    9998.0,\n",
       " 'Marital_Status': <class 'statsmodels.stats.contrast.WaldTestResults'>\n",
       "                             F                      P>F  df constraint  df denom\n",
       " const  [[1092.1857391860135]]  2.0964566860348752e-227              1    9998.0\n",
       " x      [[0.8514018016775272]]       0.3561783433011283              1    9998.0,\n",
       " 'Loan_Purpose': <class 'statsmodels.stats.contrast.WaldTestResults'>\n",
       "                             F                     P>F  df constraint  df denom\n",
       " const  [[1150.5616353624641]]  8.194496414249721e-239              1    9998.0\n",
       " x      [[1.9861493056284734]]      0.1587751882468874              1    9998.0,\n",
       " 'Region': <class 'statsmodels.stats.contrast.WaldTestResults'>\n",
       "                              F                    P>F  df constraint  df denom\n",
       " const    [[1120.442599110438]]  6.19319267192458e-233              1    9998.0\n",
       " x      [[0.36849821106887043]]     0.5438377967514196              1    9998.0}"
      ]
     },
     "execution_count": 24,
     "metadata": {},
     "output_type": "execute_result"
    }
   ],
   "source": [
    "analisis_bi_multi.olstest(df.astype('int'),'Default_60')"
   ]
  },
  {
   "cell_type": "code",
   "execution_count": 25,
   "id": "ec00cab4",
   "metadata": {},
   "outputs": [
    {
     "name": "stdout",
     "output_type": "stream",
     "text": [
      "('Interest_Rate', 'Employment_Status', 'Education_Level', 'Marital_Status', 'Loan_Purpose')\n"
     ]
    }
   ],
   "source": [
    "var_selection.fowardselection(df,'Default_60',5)"
   ]
  },
  {
   "cell_type": "code",
   "execution_count": 26,
   "id": "e274c35c",
   "metadata": {},
   "outputs": [
    {
     "name": "stdout",
     "output_type": "stream",
     "text": [
      "('Credit_Score', 'Loan_Amount', 'Interest_Rate', 'Loan_to_Value_Ratio', 'Region')\n"
     ]
    }
   ],
   "source": [
    "var_selection.backwardselection(df,'Default_60',5)"
   ]
  },
  {
   "cell_type": "code",
   "execution_count": 28,
   "id": "6a73b5cd",
   "metadata": {},
   "outputs": [
    {
     "name": "stdout",
     "output_type": "stream",
     "text": [
      "Feature 0: 0.14897047085634557\n",
      "Feature 1: 0.1621572400441795\n",
      "Feature 2: 0.16264950362192843\n",
      "Feature 3: 0.1628230989931446\n",
      "Feature 4: 0.16157668310121762\n",
      "Feature 5: 0.03354020916928398\n",
      "Feature 6: 0.03473575697378501\n",
      "Feature 7: 0.04157149558003887\n",
      "Feature 8: 0.04854470693609065\n",
      "Feature 9: 0.043430834723985685\n"
     ]
    }
   ],
   "source": [
    "var_selection.randomforest(df,'Default_60','log_loss')"
   ]
  },
  {
   "cell_type": "code",
   "execution_count": 29,
   "id": "225d1bc3",
   "metadata": {},
   "outputs": [
    {
     "name": "stdout",
     "output_type": "stream",
     "text": [
      "[[-6.51107910e-04  4.38415165e-08  5.49224596e-06 -6.19659164e-06\n",
      "  -6.95499335e-07 -1.51117897e-06 -2.06943797e-06 -1.52409771e-06\n",
      "  -1.31377923e-06 -1.76584214e-06]]\n"
     ]
    },
    {
     "name": "stderr",
     "output_type": "stream",
     "text": [
      "D:\\Anaconda\\lib\\site-packages\\sklearn\\linear_model\\_logistic.py:1173: FutureWarning: `penalty='none'`has been deprecated in 1.2 and will be removed in 1.4. To keep the past behaviour, set `penalty=None`.\n",
      "  warnings.warn(\n"
     ]
    }
   ],
   "source": [
    "var_selection.log_selection(df,'Default_60')"
   ]
  },
  {
   "cell_type": "code",
   "execution_count": null,
   "id": "6d4d33a8",
   "metadata": {},
   "outputs": [],
   "source": []
  }
 ],
 "metadata": {
  "kernelspec": {
   "display_name": "Python 3 (ipykernel)",
   "language": "python",
   "name": "python3"
  },
  "language_info": {
   "codemirror_mode": {
    "name": "ipython",
    "version": 3
   },
   "file_extension": ".py",
   "mimetype": "text/x-python",
   "name": "python",
   "nbconvert_exporter": "python",
   "pygments_lexer": "ipython3",
   "version": "3.9.7"
  }
 },
 "nbformat": 4,
 "nbformat_minor": 5
}
